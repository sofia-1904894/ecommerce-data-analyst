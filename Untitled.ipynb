{
 "cells": [
  {
   "cell_type": "code",
   "execution_count": 1,
   "id": "88b08b87-9b62-418f-9080-8e0b0af04929",
   "metadata": {},
   "outputs": [
    {
     "name": "stdout",
     "output_type": "stream",
     "text": [
      "Requirement already satisfied: kagglehub in c:\\users\\khant\\anaconda3\\lib\\site-packages (0.3.9)\n",
      "Requirement already satisfied: packaging in c:\\users\\khant\\anaconda3\\lib\\site-packages (from kagglehub) (24.1)\n",
      "Requirement already satisfied: pyyaml in c:\\users\\khant\\anaconda3\\lib\\site-packages (from kagglehub) (6.0.1)\n",
      "Requirement already satisfied: requests in c:\\users\\khant\\anaconda3\\lib\\site-packages (from kagglehub) (2.32.3)\n",
      "Requirement already satisfied: tqdm in c:\\users\\khant\\anaconda3\\lib\\site-packages (from kagglehub) (4.66.5)\n",
      "Requirement already satisfied: charset-normalizer<4,>=2 in c:\\users\\khant\\anaconda3\\lib\\site-packages (from requests->kagglehub) (3.3.2)\n",
      "Requirement already satisfied: idna<4,>=2.5 in c:\\users\\khant\\anaconda3\\lib\\site-packages (from requests->kagglehub) (3.7)\n",
      "Requirement already satisfied: urllib3<3,>=1.21.1 in c:\\users\\khant\\anaconda3\\lib\\site-packages (from requests->kagglehub) (2.2.3)\n",
      "Requirement already satisfied: certifi>=2017.4.17 in c:\\users\\khant\\anaconda3\\lib\\site-packages (from requests->kagglehub) (2025.1.31)\n",
      "Requirement already satisfied: colorama in c:\\users\\khant\\anaconda3\\lib\\site-packages (from tqdm->kagglehub) (0.4.6)\n",
      "Note: you may need to restart the kernel to use updated packages.\n"
     ]
    }
   ],
   "source": [
    "pip install kagglehub"
   ]
  },
  {
   "cell_type": "code",
   "execution_count": 2,
   "id": "cc8d596f-d043-4572-9ea4-4ec8670ff4b6",
   "metadata": {},
   "outputs": [],
   "source": [
    "import numpy as np # linear algebra\n",
    "import pandas as pd # data processing, CSV file I/O \n",
    "\n",
    "import os\n",
    "for dirname, _, filenames in os.walk('/kaggle/input'):\n",
    "    for filename in filenames:\n",
    "        print(os.path.join(dirname, filename))"
   ]
  },
  {
   "cell_type": "code",
   "execution_count": 3,
   "id": "c80ce219-aff2-40cc-92f2-3788e9a54ee0",
   "metadata": {},
   "outputs": [],
   "source": [
    " df = pd.read_csv('ecommerce_furniture_dataset_2024.csv')"
   ]
  },
  {
   "cell_type": "code",
   "execution_count": 4,
   "id": "a6f27db9-5261-4796-9192-1858b5ac4189",
   "metadata": {},
   "outputs": [
    {
     "data": {
      "text/html": [
       "<div>\n",
       "<style scoped>\n",
       "    .dataframe tbody tr th:only-of-type {\n",
       "        vertical-align: middle;\n",
       "    }\n",
       "\n",
       "    .dataframe tbody tr th {\n",
       "        vertical-align: top;\n",
       "    }\n",
       "\n",
       "    .dataframe thead th {\n",
       "        text-align: right;\n",
       "    }\n",
       "</style>\n",
       "<table border=\"1\" class=\"dataframe\">\n",
       "  <thead>\n",
       "    <tr style=\"text-align: right;\">\n",
       "      <th></th>\n",
       "      <th>productTitle</th>\n",
       "      <th>originalPrice</th>\n",
       "      <th>price</th>\n",
       "      <th>sold</th>\n",
       "      <th>tagText</th>\n",
       "    </tr>\n",
       "  </thead>\n",
       "  <tbody>\n",
       "    <tr>\n",
       "      <th>0</th>\n",
       "      <td>Dresser For Bedroom With 9 Fabric Drawers Ward...</td>\n",
       "      <td>NaN</td>\n",
       "      <td>$46.79</td>\n",
       "      <td>600</td>\n",
       "      <td>Free shipping</td>\n",
       "    </tr>\n",
       "    <tr>\n",
       "      <th>1</th>\n",
       "      <td>Outdoor Conversation Set 4 Pieces Patio Furnit...</td>\n",
       "      <td>NaN</td>\n",
       "      <td>$169.72</td>\n",
       "      <td>0</td>\n",
       "      <td>Free shipping</td>\n",
       "    </tr>\n",
       "    <tr>\n",
       "      <th>2</th>\n",
       "      <td>Desser For Bedroom With 7 Fabric Drawers Organ...</td>\n",
       "      <td>$78.4</td>\n",
       "      <td>$39.46</td>\n",
       "      <td>7</td>\n",
       "      <td>Free shipping</td>\n",
       "    </tr>\n",
       "    <tr>\n",
       "      <th>3</th>\n",
       "      <td>Modern Accent Boucle Chair,Upholstered Tufted ...</td>\n",
       "      <td>NaN</td>\n",
       "      <td>$111.99</td>\n",
       "      <td>0</td>\n",
       "      <td>Free shipping</td>\n",
       "    </tr>\n",
       "    <tr>\n",
       "      <th>4</th>\n",
       "      <td>Small Unit Simple Computer Desk Household Wood...</td>\n",
       "      <td>$48.82</td>\n",
       "      <td>$21.37</td>\n",
       "      <td>1</td>\n",
       "      <td>Free shipping</td>\n",
       "    </tr>\n",
       "  </tbody>\n",
       "</table>\n",
       "</div>"
      ],
      "text/plain": [
       "                                        productTitle originalPrice    price  \\\n",
       "0  Dresser For Bedroom With 9 Fabric Drawers Ward...           NaN   $46.79   \n",
       "1  Outdoor Conversation Set 4 Pieces Patio Furnit...           NaN  $169.72   \n",
       "2  Desser For Bedroom With 7 Fabric Drawers Organ...         $78.4   $39.46   \n",
       "3  Modern Accent Boucle Chair,Upholstered Tufted ...           NaN  $111.99   \n",
       "4  Small Unit Simple Computer Desk Household Wood...        $48.82   $21.37   \n",
       "\n",
       "   sold        tagText  \n",
       "0   600  Free shipping  \n",
       "1     0  Free shipping  \n",
       "2     7  Free shipping  \n",
       "3     0  Free shipping  \n",
       "4     1  Free shipping  "
      ]
     },
     "execution_count": 4,
     "metadata": {},
     "output_type": "execute_result"
    }
   ],
   "source": [
    "df.head()"
   ]
  },
  {
   "cell_type": "code",
   "execution_count": 5,
   "id": "6a448b79-2856-45bd-bd1c-c5e3383515fe",
   "metadata": {},
   "outputs": [
    {
     "data": {
      "text/plain": [
       "productTitle        0\n",
       "originalPrice    1513\n",
       "price               0\n",
       "sold                0\n",
       "tagText             3\n",
       "dtype: int64"
      ]
     },
     "execution_count": 5,
     "metadata": {},
     "output_type": "execute_result"
    }
   ],
   "source": [
    "df.isnull().sum()"
   ]
  },
  {
   "cell_type": "code",
   "execution_count": 6,
   "id": "a48ffaed-ec3d-42f1-8676-105654ef4e2c",
   "metadata": {},
   "outputs": [
    {
     "data": {
      "text/plain": [
       "(2000, 5)"
      ]
     },
     "execution_count": 6,
     "metadata": {},
     "output_type": "execute_result"
    }
   ],
   "source": [
    "df.shape"
   ]
  },
  {
   "cell_type": "code",
   "execution_count": 7,
   "id": "f016693c-796d-48b8-9ace-fded43f82e2a",
   "metadata": {},
   "outputs": [],
   "source": [
    "df.drop(['originalPrice'],axis=1,inplace=True)"
   ]
  },
  {
   "cell_type": "code",
   "execution_count": 8,
   "id": "08b84fa3-e585-4de8-9e8c-4b9ffce8f34b",
   "metadata": {},
   "outputs": [
    {
     "data": {
      "text/html": [
       "<div>\n",
       "<style scoped>\n",
       "    .dataframe tbody tr th:only-of-type {\n",
       "        vertical-align: middle;\n",
       "    }\n",
       "\n",
       "    .dataframe tbody tr th {\n",
       "        vertical-align: top;\n",
       "    }\n",
       "\n",
       "    .dataframe thead th {\n",
       "        text-align: right;\n",
       "    }\n",
       "</style>\n",
       "<table border=\"1\" class=\"dataframe\">\n",
       "  <thead>\n",
       "    <tr style=\"text-align: right;\">\n",
       "      <th></th>\n",
       "      <th>productTitle</th>\n",
       "      <th>price</th>\n",
       "      <th>sold</th>\n",
       "      <th>tagText</th>\n",
       "    </tr>\n",
       "  </thead>\n",
       "  <tbody>\n",
       "    <tr>\n",
       "      <th>0</th>\n",
       "      <td>Dresser For Bedroom With 9 Fabric Drawers Ward...</td>\n",
       "      <td>$46.79</td>\n",
       "      <td>600</td>\n",
       "      <td>Free shipping</td>\n",
       "    </tr>\n",
       "    <tr>\n",
       "      <th>1</th>\n",
       "      <td>Outdoor Conversation Set 4 Pieces Patio Furnit...</td>\n",
       "      <td>$169.72</td>\n",
       "      <td>0</td>\n",
       "      <td>Free shipping</td>\n",
       "    </tr>\n",
       "    <tr>\n",
       "      <th>2</th>\n",
       "      <td>Desser For Bedroom With 7 Fabric Drawers Organ...</td>\n",
       "      <td>$39.46</td>\n",
       "      <td>7</td>\n",
       "      <td>Free shipping</td>\n",
       "    </tr>\n",
       "    <tr>\n",
       "      <th>3</th>\n",
       "      <td>Modern Accent Boucle Chair,Upholstered Tufted ...</td>\n",
       "      <td>$111.99</td>\n",
       "      <td>0</td>\n",
       "      <td>Free shipping</td>\n",
       "    </tr>\n",
       "    <tr>\n",
       "      <th>4</th>\n",
       "      <td>Small Unit Simple Computer Desk Household Wood...</td>\n",
       "      <td>$21.37</td>\n",
       "      <td>1</td>\n",
       "      <td>Free shipping</td>\n",
       "    </tr>\n",
       "  </tbody>\n",
       "</table>\n",
       "</div>"
      ],
      "text/plain": [
       "                                        productTitle    price  sold  \\\n",
       "0  Dresser For Bedroom With 9 Fabric Drawers Ward...   $46.79   600   \n",
       "1  Outdoor Conversation Set 4 Pieces Patio Furnit...  $169.72     0   \n",
       "2  Desser For Bedroom With 7 Fabric Drawers Organ...   $39.46     7   \n",
       "3  Modern Accent Boucle Chair,Upholstered Tufted ...  $111.99     0   \n",
       "4  Small Unit Simple Computer Desk Household Wood...   $21.37     1   \n",
       "\n",
       "         tagText  \n",
       "0  Free shipping  \n",
       "1  Free shipping  \n",
       "2  Free shipping  \n",
       "3  Free shipping  \n",
       "4  Free shipping  "
      ]
     },
     "execution_count": 8,
     "metadata": {},
     "output_type": "execute_result"
    }
   ],
   "source": [
    "df.head()"
   ]
  },
  {
   "cell_type": "code",
   "execution_count": 9,
   "id": "17e1ec23-feb1-45d9-8d7f-4b07edecb153",
   "metadata": {},
   "outputs": [
    {
     "data": {
      "text/plain": [
       "100"
      ]
     },
     "execution_count": 9,
     "metadata": {},
     "output_type": "execute_result"
    }
   ],
   "source": [
    "df['tagText'].nunique()"
   ]
  },
  {
   "cell_type": "code",
   "execution_count": 10,
   "id": "4ff09965-a297-4ca6-be0a-6e8de1ce8c89",
   "metadata": {},
   "outputs": [
    {
     "data": {
      "text/plain": [
       "tagText\n",
       "Free shipping           1880\n",
       "+Shipping: $5.09           9\n",
       "+Shipping: $239.64         2\n",
       "+Shipping: $97.54          2\n",
       "+Shipping: $64.56          2\n",
       "                        ... \n",
       "+Shipping: $88.26          1\n",
       "+Shipping: $170.31         1\n",
       "+Shipping: $1,097.18       1\n",
       "+Shipping: $106.13         1\n",
       "+Shipping: $171.49         1\n",
       "Name: count, Length: 100, dtype: int64"
      ]
     },
     "execution_count": 10,
     "metadata": {},
     "output_type": "execute_result"
    }
   ],
   "source": [
    "df['tagText'].value_counts()"
   ]
  },
  {
   "cell_type": "code",
   "execution_count": 11,
   "id": "10481bfc-f27e-4b1c-82a8-abee85937795",
   "metadata": {},
   "outputs": [
    {
     "data": {
      "text/plain": [
       "tagText\n",
       "Free shipping       1880\n",
       "others               111\n",
       "+Shipping: $5.09       9\n",
       "Name: count, dtype: int64"
      ]
     },
     "execution_count": 11,
     "metadata": {},
     "output_type": "execute_result"
    }
   ],
   "source": [
    "df['tagText'] = df['tagText'].apply(lambda x: x if x in ['Free shipping', '+Shipping: $5.09'] else 'others')\n",
    "df['tagText'].value_counts()"
   ]
  },
  {
   "cell_type": "code",
   "execution_count": 12,
   "id": "85fcdae2-8714-4814-a49c-b1cf1a622469",
   "metadata": {},
   "outputs": [],
   "source": [
    "import seaborn as sns"
   ]
  },
  {
   "cell_type": "code",
   "execution_count": 13,
   "id": "3588e13c-0421-4216-b3f1-ef886e7189ab",
   "metadata": {},
   "outputs": [
    {
     "data": {
      "text/plain": [
       "<Axes: xlabel='tagText', ylabel='count'>"
      ]
     },
     "execution_count": 13,
     "metadata": {},
     "output_type": "execute_result"
    },
    {
     "data": {
      "image/png": "[encoded data removed]",
      "text/plain": [
       "<Figure size 640x480 with 1 Axes>"
      ]
     },
     "metadata": {},
     "output_type": "display_data"
    }
   ],
   "source": [
    "sns.countplot(x='tagText',data=df)"
   ]
  },
  {
   "cell_type": "raw",
   "id": "9086ea0d-1cb9-4718-bf62-ec82877c7a15",
   "metadata": {},
   "source": [
    "df['price'] = df['price'].replace('[\\$,]', '', regex=True).astype(float)"
   ]
  },
  {
   "cell_type": "code",
   "execution_count": 14,
   "id": "32f6bb21-c748-471c-b984-0aa5c6ed1eb3",
   "metadata": {},
   "outputs": [
    {
     "data": {
      "text/html": [
       "<div>\n",
       "<style scoped>\n",
       "    .dataframe tbody tr th:only-of-type {\n",
       "        vertical-align: middle;\n",
       "    }\n",
       "\n",
       "    .dataframe tbody tr th {\n",
       "        vertical-align: top;\n",
       "    }\n",
       "\n",
       "    .dataframe thead th {\n",
       "        text-align: right;\n",
       "    }\n",
       "</style>\n",
       "<table border=\"1\" class=\"dataframe\">\n",
       "  <thead>\n",
       "    <tr style=\"text-align: right;\">\n",
       "      <th></th>\n",
       "      <th>productTitle</th>\n",
       "      <th>price</th>\n",
       "      <th>sold</th>\n",
       "      <th>tagText</th>\n",
       "    </tr>\n",
       "  </thead>\n",
       "  <tbody>\n",
       "    <tr>\n",
       "      <th>0</th>\n",
       "      <td>Dresser For Bedroom With 9 Fabric Drawers Ward...</td>\n",
       "      <td>$46.79</td>\n",
       "      <td>600</td>\n",
       "      <td>Free shipping</td>\n",
       "    </tr>\n",
       "    <tr>\n",
       "      <th>1</th>\n",
       "      <td>Outdoor Conversation Set 4 Pieces Patio Furnit...</td>\n",
       "      <td>$169.72</td>\n",
       "      <td>0</td>\n",
       "      <td>Free shipping</td>\n",
       "    </tr>\n",
       "    <tr>\n",
       "      <th>2</th>\n",
       "      <td>Desser For Bedroom With 7 Fabric Drawers Organ...</td>\n",
       "      <td>$39.46</td>\n",
       "      <td>7</td>\n",
       "      <td>Free shipping</td>\n",
       "    </tr>\n",
       "    <tr>\n",
       "      <th>3</th>\n",
       "      <td>Modern Accent Boucle Chair,Upholstered Tufted ...</td>\n",
       "      <td>$111.99</td>\n",
       "      <td>0</td>\n",
       "      <td>Free shipping</td>\n",
       "    </tr>\n",
       "    <tr>\n",
       "      <th>4</th>\n",
       "      <td>Small Unit Simple Computer Desk Household Wood...</td>\n",
       "      <td>$21.37</td>\n",
       "      <td>1</td>\n",
       "      <td>Free shipping</td>\n",
       "    </tr>\n",
       "  </tbody>\n",
       "</table>\n",
       "</div>"
      ],
      "text/plain": [
       "                                        productTitle    price  sold  \\\n",
       "0  Dresser For Bedroom With 9 Fabric Drawers Ward...   $46.79   600   \n",
       "1  Outdoor Conversation Set 4 Pieces Patio Furnit...  $169.72     0   \n",
       "2  Desser For Bedroom With 7 Fabric Drawers Organ...   $39.46     7   \n",
       "3  Modern Accent Boucle Chair,Upholstered Tufted ...  $111.99     0   \n",
       "4  Small Unit Simple Computer Desk Household Wood...   $21.37     1   \n",
       "\n",
       "         tagText  \n",
       "0  Free shipping  \n",
       "1  Free shipping  \n",
       "2  Free shipping  \n",
       "3  Free shipping  \n",
       "4  Free shipping  "
      ]
     },
     "execution_count": 14,
     "metadata": {},
     "output_type": "execute_result"
    }
   ],
   "source": [
    "df.head()"
   ]
  },
  {
   "cell_type": "code",
   "execution_count": 15,
   "id": "bdb6eda1-9962-49ee-a08c-239a062f38ab",
   "metadata": {},
   "outputs": [
    {
     "name": "stdout",
     "output_type": "stream",
     "text": [
      "Requirement already satisfied: pandas in c:\\users\\khant\\anaconda3\\lib\\site-packages (2.2.2)\n",
      "Requirement already satisfied: seaborn in c:\\users\\khant\\anaconda3\\lib\\site-packages (0.13.2)\n",
      "Requirement already satisfied: matplotlib in c:\\users\\khant\\anaconda3\\lib\\site-packages (3.9.2)\n",
      "Requirement already satisfied: numpy>=1.26.0 in c:\\users\\khant\\anaconda3\\lib\\site-packages (from pandas) (1.26.4)\n",
      "Requirement already satisfied: python-dateutil>=2.8.2 in c:\\users\\khant\\anaconda3\\lib\\site-packages (from pandas) (2.9.0.post0)\n",
      "Requirement already satisfied: pytz>=2020.1 in c:\\users\\khant\\anaconda3\\lib\\site-packages (from pandas) (2024.1)\n",
      "Requirement already satisfied: tzdata>=2022.7 in c:\\users\\khant\\anaconda3\\lib\\site-packages (from pandas) (2023.3)\n",
      "Requirement already satisfied: contourpy>=1.0.1 in c:\\users\\khant\\anaconda3\\lib\\site-packages (from matplotlib) (1.2.0)\n",
      "Requirement already satisfied: cycler>=0.10 in c:\\users\\khant\\anaconda3\\lib\\site-packages (from matplotlib) (0.11.0)\n",
      "Requirement already satisfied: fonttools>=4.22.0 in c:\\users\\khant\\anaconda3\\lib\\site-packages (from matplotlib) (4.51.0)\n",
      "Requirement already satisfied: kiwisolver>=1.3.1 in c:\\users\\khant\\anaconda3\\lib\\site-packages (from matplotlib) (1.4.4)\n",
      "Requirement already satisfied: packaging>=20.0 in c:\\users\\khant\\anaconda3\\lib\\site-packages (from matplotlib) (24.1)\n",
      "Requirement already satisfied: pillow>=8 in c:\\users\\khant\\anaconda3\\lib\\site-packages (from matplotlib) (10.4.0)\n",
      "Requirement already satisfied: pyparsing>=2.3.1 in c:\\users\\khant\\anaconda3\\lib\\site-packages (from matplotlib) (3.1.2)\n",
      "Requirement already satisfied: six>=1.5 in c:\\users\\khant\\anaconda3\\lib\\site-packages (from python-dateutil>=2.8.2->pandas) (1.16.0)\n",
      "Note: you may need to restart the kernel to use updated packages.\n"
     ]
    }
   ],
   "source": [
    "pip install pandas seaborn matplotlib"
   ]
  },
  {
   "cell_type": "code",
   "execution_count": 16,
   "id": "be185ba5-d33d-435e-b1b0-ab2bfbfac9af",
   "metadata": {},
   "outputs": [
    {
     "data": {
      "text/plain": [
       "<Axes: xlabel='price', ylabel='Density'>"
      ]
     },
     "execution_count": 16,
     "metadata": {},
     "output_type": "execute_result"
    },
    {
     "data": {
      "image/png": "[encoded data removed]",
      "text/plain": [
       "<Figure size 640x480 with 1 Axes>"
      ]
     },
     "metadata": {},
     "output_type": "display_data"
    }
   ],
   "source": [
    "sns.histplot(df[\"price\"], kde=True, stat=\"density\")"
   ]
  },
  {
   "cell_type": "code",
   "execution_count": 17,
   "id": "7e84964e-3993-445c-8b3e-9e645519cc7c",
   "metadata": {},
   "outputs": [
    {
     "name": "stderr",
     "output_type": "stream",
     "text": [
      "C:\\Users\\khant\\AppData\\Local\\Temp\\ipykernel_9104\\2507294489.py:1: UserWarning: \n",
      "\n",
      "`distplot` is a deprecated function and will be removed in seaborn v0.14.0.\n",
      "\n",
      "Please adapt your code to use either `displot` (a figure-level function with\n",
      "similar flexibility) or `histplot` (an axes-level function for histograms).\n",
      "\n",
      "For a guide to updating your code to use the new functions, please see\n",
      "https://gist.github.com/mwaskom/de44147ed2974457ad6372750bbe5751\n",
      "\n",
      "  sns.distplot(df['sold'])\n"
     ]
    },
    {
     "data": {
      "text/plain": [
       "<Axes: xlabel='sold', ylabel='Density'>"
      ]
     },
     "execution_count": 17,
     "metadata": {},
     "output_type": "execute_result"
    },
    {
     "data": {
      "image/png": "[encoded data removed]",
      "text/plain": [
       "<Figure size 640x480 with 1 Axes>"
      ]
     },
     "metadata": {},
     "output_type": "display_data"
    }
   ],
   "source": [
    "sns.distplot(df['sold'])"
   ]
  },
  {
   "cell_type": "code",
   "execution_count": 18,
   "id": "c8777b67-d077-4e22-be5e-938f08083948",
   "metadata": {},
   "outputs": [
    {
     "data": {
      "text/plain": [
       "<Axes: xlabel='price', ylabel='sold'>"
      ]
     },
     "execution_count": 18,
     "metadata": {},
     "output_type": "execute_result"
    },
    {
     "data": {
      "image/png": "[encoded data removed]",
      "text/plain": [
       "<Figure size 640x480 with 1 Axes>"
      ]
     },
     "metadata": {},
     "output_type": "display_data"
    }
   ],
   "source": [
    "sns.scatterplot(x='price', y='sold', data=df)"
   ]
  },
  {
   "cell_type": "code",
   "execution_count": 42,
   "id": "07071589-f8a9-4848-a192-808f515056aa",
   "metadata": {},
   "outputs": [
    {
     "data": {
      "text/plain": [
       "<seaborn.axisgrid.PairGrid at 0x28f226f6bd0>"
      ]
     },
     "execution_count": 42,
     "metadata": {},
     "output_type": "execute_result"
    },
    {
     "data": {
      "image/png": "[encoded data removed]",
      "text/plain": [
       "<Figure size 250x250 with 2 Axes>"
      ]
     },
     "metadata": {},
     "output_type": "display_data"
    }
   ],
   "source": [
    "filtered_df = df[df['tagText'] == 'Free shipping']\n",
    "sns.pairplot(filtered_df[['price', 'sold']])"
   ]
  },
  {
   "cell_type": "code",
   "execution_count": 48,
   "id": "1623a57b-d41d-4469-83f6-56bbc4d67094",
   "metadata": {},
   "outputs": [],
   "source": [
    "from sklearn.preprocessing import LabelEncoder\n",
    "le=LabelEncoder()\n",
    "df['tagText']=le.fit_transform(df['tagText'])"
   ]
  },
  {
   "cell_type": "code",
   "execution_count": 50,
   "id": "a24800be-2205-4636-b207-813947c3f90d",
   "metadata": {},
   "outputs": [
    {
     "data": {
      "text/html": [
       "<div>\n",
       "<style scoped>\n",
       "    .dataframe tbody tr th:only-of-type {\n",
       "        vertical-align: middle;\n",
       "    }\n",
       "\n",
       "    .dataframe tbody tr th {\n",
       "        vertical-align: top;\n",
       "    }\n",
       "\n",
       "    .dataframe thead th {\n",
       "        text-align: right;\n",
       "    }\n",
       "</style>\n",
       "<table border=\"1\" class=\"dataframe\">\n",
       "  <thead>\n",
       "    <tr style=\"text-align: right;\">\n",
       "      <th></th>\n",
       "      <th>productTitle</th>\n",
       "      <th>price</th>\n",
       "      <th>sold</th>\n",
       "      <th>tagText</th>\n",
       "    </tr>\n",
       "  </thead>\n",
       "  <tbody>\n",
       "    <tr>\n",
       "      <th>0</th>\n",
       "      <td>Dresser For Bedroom With 9 Fabric Drawers Ward...</td>\n",
       "      <td>$46.79</td>\n",
       "      <td>600</td>\n",
       "      <td>1</td>\n",
       "    </tr>\n",
       "    <tr>\n",
       "      <th>1</th>\n",
       "      <td>Outdoor Conversation Set 4 Pieces Patio Furnit...</td>\n",
       "      <td>$169.72</td>\n",
       "      <td>0</td>\n",
       "      <td>1</td>\n",
       "    </tr>\n",
       "    <tr>\n",
       "      <th>2</th>\n",
       "      <td>Desser For Bedroom With 7 Fabric Drawers Organ...</td>\n",
       "      <td>$39.46</td>\n",
       "      <td>7</td>\n",
       "      <td>1</td>\n",
       "    </tr>\n",
       "    <tr>\n",
       "      <th>3</th>\n",
       "      <td>Modern Accent Boucle Chair,Upholstered Tufted ...</td>\n",
       "      <td>$111.99</td>\n",
       "      <td>0</td>\n",
       "      <td>1</td>\n",
       "    </tr>\n",
       "    <tr>\n",
       "      <th>4</th>\n",
       "      <td>Small Unit Simple Computer Desk Household Wood...</td>\n",
       "      <td>$21.37</td>\n",
       "      <td>1</td>\n",
       "      <td>1</td>\n",
       "    </tr>\n",
       "  </tbody>\n",
       "</table>\n",
       "</div>"
      ],
      "text/plain": [
       "                                        productTitle    price  sold  tagText\n",
       "0  Dresser For Bedroom With 9 Fabric Drawers Ward...   $46.79   600        1\n",
       "1  Outdoor Conversation Set 4 Pieces Patio Furnit...  $169.72     0        1\n",
       "2  Desser For Bedroom With 7 Fabric Drawers Organ...   $39.46     7        1\n",
       "3  Modern Accent Boucle Chair,Upholstered Tufted ...  $111.99     0        1\n",
       "4  Small Unit Simple Computer Desk Household Wood...   $21.37     1        1"
      ]
     },
     "execution_count": 50,
     "metadata": {},
     "output_type": "execute_result"
    }
   ],
   "source": [
    "df.head()"
   ]
  },
  {
   "cell_type": "code",
   "execution_count": 52,
   "id": "5980284b-7403-4220-af48-d2e49f140885",
   "metadata": {},
   "outputs": [
    {
     "data": {
      "text/plain": [
       "tagText\n",
       "1    1880\n",
       "2     111\n",
       "0       9\n",
       "Name: count, dtype: int64"
      ]
     },
     "execution_count": 52,
     "metadata": {},
     "output_type": "execute_result"
    }
   ],
   "source": [
    "df['tagText'].value_counts()"
   ]
  }
 ],
 "metadata": {
  "kernelspec": {
   "display_name": "Python [conda env:base] *",
   "language": "python",
   "name": "conda-base-py"
  },
  "language_info": {
   "codemirror_mode": {
    "name": "ipython",
    "version": 3
   },
   "file_extension": ".py",
   "mimetype": "text/x-python",
   "name": "python",
   "nbconvert_exporter": "python",
   "pygments_lexer": "ipython3",
   "version": "3.12.7"
  }
 },
 "nbformat": 4,
 "nbformat_minor": 5
}
